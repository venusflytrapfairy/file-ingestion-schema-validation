{
  "nbformat": 4,
  "nbformat_minor": 0,
  "metadata": {
    "colab": {
      "provenance": []
    },
    "kernelspec": {
      "name": "python3",
      "display_name": "Python 3"
    },
    "language_info": {
      "name": "python"
    }
  },
  "cells": [
    {
      "cell_type": "code",
      "execution_count": 12,
      "metadata": {
        "id": "wBt_NRTG1jp9"
      },
      "outputs": [],
      "source": [
        "import pandas as pd\n",
        "import dask.dataframe as dd\n",
        "import modin as mpd\n",
        "import ray as rd\n",
        "import yaml\n",
        "import os\n",
        "import gzip\n",
        "import time\n",
        "\n"
      ]
    },
    {
      "cell_type": "code",
      "source": [
        "#Read the CSV file using different methods\n",
        "pandas_df = pd.read_csv('bmi.csv')\n",
        "dask_df = dd.read_csv('bmi.csv')\n"
      ],
      "metadata": {
        "id": "Y__39yQn7SAM"
      },
      "execution_count": 6,
      "outputs": []
    },
    {
      "cell_type": "code",
      "source": [
        "#Presenting Computational Efficiency\n",
        "# File path\n",
        "file_path = 'bmi.csv'  # Replace with the actual file path\n",
        "\n",
        "# Measure time for Pandas\n",
        "start_time_pandas = time.time()\n",
        "pandas_df = pd.read_csv(file_path)\n",
        "pandas_time = time.time() - start_time_pandas\n",
        "\n",
        "# Measure time for Dask\n",
        "start_time_dask = time.time()\n",
        "dask_df = dd.read_csv(file_path)\n",
        "dask_time = time.time() - start_time_dask\n",
        "\n",
        "# Print the loading times\n",
        "print(f\"Pandas Loading Time: {pandas_time:.3f} seconds\")\n",
        "print(f\"Dask Loading Time: {dask_time:.3f} seconds\")"
      ],
      "metadata": {
        "colab": {
          "base_uri": "https://localhost:8080/"
        },
        "id": "x6qoxE26HsHk",
        "outputId": "7b064968-976e-4d46-ff95-a9f8b01cd386"
      },
      "execution_count": 14,
      "outputs": [
        {
          "output_type": "stream",
          "name": "stdout",
          "text": [
            "Pandas Loading Time: 0.009 seconds\n",
            "Dask Loading Time: 0.005 seconds\n"
          ]
        }
      ]
    },
    {
      "cell_type": "code",
      "source": [
        "#Basic Data Validation\n",
        "pandas_df.columns = pandas_df.columns.str.replace(r'[^\\w\\s]', '').str.strip()\n"
      ],
      "metadata": {
        "id": "BlNZtEJV8c-x"
      },
      "execution_count": 7,
      "outputs": []
    },
    {
      "cell_type": "code",
      "source": [
        "#YAML file for column names and separator\n",
        "columns_yaml = {\n",
        "    'columns': list(pandas_df.columns),\n",
        "    'separator': '|'\n",
        "}\n",
        "\n",
        "with open('columns.yaml', 'w') as yaml_file:\n",
        "    yaml.dump(columns_yaml, yaml_file)"
      ],
      "metadata": {
        "id": "WjdeG8RF8jaT"
      },
      "execution_count": 8,
      "outputs": []
    },
    {
      "cell_type": "code",
      "source": [
        "#Validate number of columns and column names\n",
        "with open('columns.yaml', 'r') as yaml_file:\n",
        "    yaml_data = yaml.load(yaml_file, Loader=yaml.FullLoader)\n",
        "\n",
        "expected_columns = yaml_data['columns']\n",
        "expected_separator = yaml_data['separator']\n",
        "\n",
        "if set(expected_columns) == set(pandas_df.columns) and expected_separator == '|':\n",
        "    print(\"Columns and separator match the YAML file.\")\n",
        "else:\n",
        "    print(\"Columns or separator do not match the YAML file.\")\n"
      ],
      "metadata": {
        "colab": {
          "base_uri": "https://localhost:8080/"
        },
        "id": "tBf59ErP8u_u",
        "outputId": "4bb3d234-615a-4373-b925-52ef445c6b30"
      },
      "execution_count": 9,
      "outputs": [
        {
          "output_type": "stream",
          "name": "stdout",
          "text": [
            "Columns and separator match the YAML file.\n"
          ]
        }
      ]
    },
    {
      "cell_type": "code",
      "source": [
        "#pipe-separated text file (|) in gz format\n",
        "output_file = 'your_data_output.txt.gz'\n",
        "\n",
        "with gzip.open(output_file, 'wt', encoding='utf-8') as f:\n",
        "    pandas_df.to_csv(f, sep=expected_separator, index=False)\n",
        "\n",
        "print(f\"File '{output_file}' written successfully.\")\n"
      ],
      "metadata": {
        "colab": {
          "base_uri": "https://localhost:8080/"
        },
        "id": "8Te6hQcI9Ceb",
        "outputId": "563e01c3-327c-4196-8c92-03ec3b15891e"
      },
      "execution_count": 10,
      "outputs": [
        {
          "output_type": "stream",
          "name": "stdout",
          "text": [
            "File 'your_data_output.txt.gz' written successfully.\n"
          ]
        }
      ]
    },
    {
      "cell_type": "code",
      "source": [
        "#File Summary\n",
        "total_rows = len(pandas_df)\n",
        "total_columns = len(pandas_df.columns)\n",
        "file_size = os.path.getsize(output_file)\n",
        "\n",
        "print(f\"Total number of rows: {total_rows}\")\n",
        "print(f\"Total number of columns: {total_columns}\")\n",
        "print(f\"File size: {file_size} bytes\")\n"
      ],
      "metadata": {
        "colab": {
          "base_uri": "https://localhost:8080/"
        },
        "id": "sWnmPnb89LAV",
        "outputId": "a22f8615-2df0-4201-a08f-2492d51112c6"
      },
      "execution_count": 11,
      "outputs": [
        {
          "output_type": "stream",
          "name": "stdout",
          "text": [
            "Total number of rows: 741\n",
            "Total number of columns: 5\n",
            "File size: 10498 bytes\n"
          ]
        }
      ]
    }
  ]
}